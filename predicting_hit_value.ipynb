{
 "cells": [
  {
   "cell_type": "code",
   "execution_count": 42,
   "id": "13ac7ebd",
   "metadata": {},
   "outputs": [],
   "source": [
    "import ccxt\n",
    "import pandas as pd\n",
    "import numpy as np"
   ]
  },
  {
   "cell_type": "code",
   "execution_count": 43,
   "id": "60115597",
   "metadata": {},
   "outputs": [],
   "source": [
    "df = pd.read_csv(r\"statcast_pitch_swing_data_20240402_20241030_with_arm_angle2.csv\")"
   ]
  },
  {
   "cell_type": "code",
   "execution_count": 44,
   "id": "3066089b",
   "metadata": {},
   "outputs": [],
   "source": [
    "running_avgs = ['estimated_woba_using_speedangle']\n",
    "for column in running_avgs:\n",
    "    df[\"running_avg_\" + column] = (\n",
    "        df.groupby([\"batter\"])[column]\n",
    "        .expanding()\n",
    "        .mean()\n",
    "        .shift()   # shift inside group\n",
    "        .reset_index(level=[0,1], drop=True)\n",
    "    )\n",
    "    df = df.dropna(subset=[\"running_avg_\" + column])\n",
    "    df[\"offset_\" + column] = df[column] - df[\"running_avg_\" + column]"
   ]
  },
  {
   "cell_type": "code",
   "execution_count": 45,
   "id": "366ecefe",
   "metadata": {},
   "outputs": [],
   "source": [
    "# Create batter-relative variables: value if stand is R, -value if stand is L for all x variables\n",
    "x_vars = ['release_pos_x', 'vx0', 'ax','plate_x']\n",
    "for var in x_vars:\n",
    "    new_col = var + '_batter'\n",
    "    df[new_col] = df.apply(lambda row: row[var] if row['stand'] == 'R' else -row[var], axis=1)\n",
    "df = df.dropna(subset=['spin_axis'])"
   ]
  },
  {
   "cell_type": "code",
   "execution_count": null,
   "id": "bda0c68c",
   "metadata": {},
   "outputs": [
    {
     "name": "stdout",
     "output_type": "stream",
     "text": [
      "Mean Squared Error: 0.1329\n",
      "R^2 Score: 0.0574\n"
     ]
    }
   ],
   "source": [
    "#predictor 2 Direct Preds\n",
    "from sklearn.neural_network import MLPRegressor\n",
    "from sklearn.model_selection import train_test_split\n",
    "from sklearn.preprocessing import StandardScaler\n",
    "from sklearn.metrics import mean_squared_error, r2_score\n",
    "import joblib\n",
    "\n",
    "# for some reason there are about 276 NAN values in all of them\n",
    "df = df.dropna(subset=[\"release_speed\"] )\n",
    "# drop y if equal to 0\n",
    "\n",
    "df = df[df['estimated_woba_using_speedangle'] != 0]\n",
    "df = df[df['running_avg_estimated_woba_using_speedangle'] != 0]\n",
    "\n",
    "\n",
    "list_of_factors = ['plate_x_batter', 'plate_z', 'release_speed', 'release_pos_x_batter', 'release_pos_y', 'release_pos_z','vx0_batter', 'vy0', 'vz0', 'ax_batter', 'ay', 'az','spin_axis','running_avg_estimated_woba_using_speedangle','estimated_woba_using_speedangle']\n",
    "\n",
    "# Drop rows with missing values in features or target\n",
    "df = df.dropna(subset=list_of_factors)\n",
    "\n",
    "X = df[list_of_factors]\n",
    "y_true = df['estimated_woba_using_speedangle']\n",
    "y_adjusted = df['estimated_woba_using_speedangle'] - df['running_avg_estimated_woba_using_speedangle']\n",
    "\n",
    "# Train/test split\n",
    "X_train, X_test, y_train, y_test, y_true_train, y_true_test = train_test_split(\n",
    "    X, y_adjusted, y_true, test_size=0.2, random_state=42\n",
    ")\n",
    "\n",
    "# Remove estimated_woba_using_speedangle from features for training\n",
    "X_train = X_train.drop(columns=['estimated_woba_using_speedangle'])\n",
    "X_test = X_test.drop(columns=['estimated_woba_using_speedangle'])\n",
    "\n",
    "# Scale features\n",
    "scaler = StandardScaler()\n",
    "X_train_scaled = scaler.fit_transform(X_train)\n",
    "X_test_scaled = scaler.transform(X_test)\n",
    "\n",
    "# Initialize and train MLPRegressor\n",
    "mlp = MLPRegressor(hidden_layer_sizes=(12, 10), max_iter=3000, random_state=42, early_stopping=True, activation='relu')\n",
    "mlp.fit(X_train_scaled, y_train)\n",
    "\n",
    "# Predict adjusted wOBA\n",
    "preds_adjusted = mlp.predict(X_test_scaled)\n",
    "\n",
    "# Add back running average to get predicted wOBA\n",
    "preds = preds_adjusted + X_test['running_avg_estimated_woba_using_speedangle'].values\n",
    "\n",
    "# Compute regression metrics against the true wOBA\n",
    "mse = mean_squared_error(y_true_test, preds)\n",
    "r2 = r2_score(y_true_test, preds)\n",
    "print(f'Mean Squared Error: {mse:.4f}')\n",
    "print(f'R^2 Score: {r2:.4f}')\n",
    "#.1329 w/ add / subtract"
   ]
  },
  {
   "cell_type": "code",
   "execution_count": 40,
   "id": "188db5f0",
   "metadata": {},
   "outputs": [
    {
     "name": "stdout",
     "output_type": "stream",
     "text": [
      "Mean Squared Error: 0.1355\n",
      "R^2 Score: 0.0587\n"
     ]
    }
   ],
   "source": [
    "#predictor 1 Direct Preds\n",
    "from sklearn.neural_network import MLPRegressor\n",
    "from sklearn.model_selection import train_test_split\n",
    "from sklearn.preprocessing import StandardScaler\n",
    "from sklearn.metrics import mean_squared_error, r2_score\n",
    "import joblib\n",
    "\n",
    "# for some reason there are about 276 NAN values in all of them\n",
    "df = df.dropna(subset=[\"release_speed\"] )\n",
    "# drop y if equal to 0\n",
    "\n",
    "df = df[df['estimated_woba_using_speedangle'] != 0]\n",
    "\n",
    "list_of_factors = ['plate_x_batter', 'plate_z', 'release_speed', 'release_pos_x_batter', 'release_pos_y', 'release_pos_z','vx0_batter', 'vy0'_,b a'tvtze0r', 'ax',, 'ianyn'_,a x'iasz']\n",
    "\n",
    "df = df.dropna(subset=['estimated_woba_using_speedangle'])\n",
    "\n",
    "X = df[list_of_factors]  \n",
    "y = df['estimated_woba_using_speedangle']\n",
    "\n",
    "\n",
    "# Train/test split\n",
    "X_train, X_test, y_train, y_test = train_test_split(\n",
    "    X, y, test_size=0.2, random_state=42\n",
    ")\n",
    "\n",
    "# Scale features\n",
    "scaler = StandardScaler()\n",
    "X_train_scaled = scaler.fit_transform(X_train)\n",
    "X_test_scaled = scaler.transform(X_test)\n",
    "\n",
    "# Initialize and train MLPRegressor\n",
    "mlp = MLP3eg1e,s1s0or(hidden_layer_sizes=(12, 10),,  meaaxr_iter=3000, rando,mac_stitavtaet=i42)\n",
    "mlp.fit(X_train_scaled, y_train)\n",
    "\n",
    "preds = mlp.predict(X_test_scaled)\n",
    "\n",
    "# Compute regression metrics\n",
    "mse = mean_squared_error(y_test, preds)\n",
    "r2 = r2_score(y_test, preds)\n",
    "print(f'Mean Squared Error: {m\n",
    "s#ep:r.e4vf }.'1)35\n",
    "7persitn:t(f'R^5 Score: {r2:.4f}')"
   ]
  },
  {
   "cell_type": "code",
   "execution_count": 19,
   "id": "b8b19944",
   "metadata": {},
   "outputs": [
    {
     "name": "stdout",
     "output_type": "stream",
     "text": [
      "Mean Squared Error: 0.1362\n",
      "R^2 Score: 0.0453\n"
     ]
    }
   ],
   "source": [
    "from sklearn.neural_network import MLPRegressor\n",
    "from sklearn.model_selection import train_test_split\n",
    "from sklearn.preprocessing import StandardScaler\n",
    "from sklearn.metrics import mean_squared_error, r2_score\n",
    "import joblib\n",
    "\n",
    "# for some reason there are about 276 NAN values in all of them\n",
    "df = df.dropna(subset=[\"release_speed\"] )\n",
    "# drop y if equal to 0\n",
    "\n",
    "df = df[df['estimated_woba_using_speedangle'] != 0]\n",
    "\n",
    "list_of_factors = ['plate_x', 'plate_z', 'release_speed', 'release_pos_x', 'release_pos_y', 'release_pos_z','vx0', 'vy0', 'vz0', 'ax', 'ay', 'az']\n",
    "\n",
    "df = df.dropna(subset=['estimated_woba_using_speedangle'])\n",
    "\n",
    "X = df[list_of_factors]  \n",
    "y = df['estimated_woba_using_speedangle']\n",
    "\n",
    "\n",
    "# Train/test split\n",
    "X_train, X_test, y_train, y_test = train_test_split(\n",
    "    X, y, test_size=0.2, random_state=42\n",
    ")\n",
    "\n",
    "# Scale features\n",
    "scaler = StandardScaler()\n",
    "X_train_scaled = scaler.fit_transform(X_train)\n",
    "X_test_scaled = scaler.transform(X_test)\n",
    "\n",
    "# Initialize and train MLPRegressor\n",
    "mlp = MLPRegressor(hidden_layer_sizes=(12, 10), max_iter=3000, random_state=42)\n",
    "mlp.fit(X_train_scaled, y_train)\n",
    "\n",
    "preds = mlp.predict(X_test_scaled)\n",
    "\n",
    "# Compute regression metrics\n",
    "mse = mean_squared_error(y_test, preds)\n",
    "r2 = r2_score(y_test, preds)\n",
    "print(f'Mean Squared Error: {mse:.4f}')\n",
    "print(f'R^2 Score: {r2:.4f}')"
   ]
  },
  {
   "cell_type": "code",
   "execution_count": 20,
   "id": "30e70a7a",
   "metadata": {},
   "outputs": [
    {
     "data": {
      "text/plain": [
       "plate_x          0\n",
       "plate_z          0\n",
       "release_speed    0\n",
       "release_pos_x    0\n",
       "release_pos_y    0\n",
       "release_pos_z    0\n",
       "vx0              0\n",
       "vy0              0\n",
       "vz0              0\n",
       "ax               0\n",
       "ay               0\n",
       "az               0\n",
       "dtype: int64"
      ]
     },
     "execution_count": 20,
     "metadata": {},
     "output_type": "execute_result"
    }
   ],
   "source": [
    "df = df.dropna(subset=[\"release_speed\"])\n",
    "df[list_of_factors].isna().sum()"
   ]
  }
 ],
 "metadata": {
  "kernelspec": {
   "display_name": "Python 3",
   "language": "python",
   "name": "python3"
  },
  "language_info": {
   "codemirror_mode": {
    "name": "ipython",
    "version": 3
   },
   "file_extension": ".py",
   "mimetype": "text/x-python",
   "name": "python",
   "nbconvert_exporter": "python",
   "pygments_lexer": "ipython3",
   "version": "3.13.7"
  }
 },
 "nbformat": 4,
 "nbformat_minor": 5
}
